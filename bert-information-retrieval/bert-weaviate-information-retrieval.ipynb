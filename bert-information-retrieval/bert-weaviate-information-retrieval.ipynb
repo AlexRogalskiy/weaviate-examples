{
 "cells": [
  {
   "cell_type": "code",
   "execution_count": 16,
   "metadata": {},
   "outputs": [],
   "source": [
    "# !pip3 install transformers\n",
    "# !pip3 install tensorflow\n",
    "# !pip3 install torch\n",
    "# !pip3 install weaviate"
   ]
  },
  {
   "cell_type": "markdown",
   "metadata": {},
   "source": [
    "## Import the BERT transformer model and pytorch\n",
    "\n",
    "We are using the `bert-base-uncased` model in this example, but any model will work. Feel free to adjust accordingly."
   ]
  },
  {
   "cell_type": "code",
   "execution_count": 25,
   "metadata": {},
   "outputs": [],
   "source": [
    "import torch\n",
    "from transformers import AutoModel, AutoTokenizer, BertTokenizer\n",
    "\n",
    "\n",
    "torch.set_grad_enabled(False)\n",
    "\n",
    "# udpated to use different model if desired\n",
    "MODEL_NAME = \"bert-base-uncased\"\n",
    "\n",
    "# Create model and tokenizer\n",
    "model = AutoModel.from_pretrained(MODEL_NAME)\n",
    "tokenizer = AutoTokenizer.from_pretrained(MODEL_NAME)"
   ]
  },
  {
   "cell_type": "markdown",
   "metadata": {},
   "source": [
    "## Initialize Weaviate Client\n",
    "This assumes you have Weaviate running locally on `:8080`. Adjust URL accordingly. You could also enter the WCS URL here, for example, if you are running a WCS cloud instance instead of running Weaviate locally."
   ]
  },
  {
   "cell_type": "code",
   "execution_count": 42,
   "metadata": {},
   "outputs": [],
   "source": [
    "import weaviate\n",
    "\n",
    "client = weaviate.Client(\"http://localhost:8080\")"
   ]
  },
  {
   "cell_type": "markdown",
   "metadata": {},
   "source": [
    "## Load dataset from disk\n",
    "Create some helper functions to create the dataset (20-newsgroup text posts) from disk. These methods are specific to the structure of your dataset, adjust accordingly."
   ]
  },
  {
   "cell_type": "code",
   "execution_count": 26,
   "metadata": {},
   "outputs": [],
   "source": [
    "import os\n",
    "import random\n",
    "\n",
    "def get_post_filenames(limit_objects=100):\n",
    "    file_names = []\n",
    "    i=0\n",
    "    for root, dirs, files in os.walk(\"./data/20news-bydate-test\"):\n",
    "        for filename in files:\n",
    "            path = os.path.join(root, filename)\n",
    "            file_names += [path]\n",
    "        \n",
    "    random.shuffle(file_names)\n",
    "    limit_objects = min(len(file_names), limit_objects)\n",
    "      \n",
    "    file_names = file_names[:limit_objects]\n",
    "\n",
    "    return file_names\n",
    "\n",
    "def read_posts(filenames=[]):\n",
    "    posts = []\n",
    "    for filename in filenames:\n",
    "        f = open(filename)\n",
    "        ## TODO: strip headers\n",
    "        posts += [f.read()]\n",
    "\n",
    "    return posts       \n"
   ]
  },
  {
   "cell_type": "markdown",
   "metadata": {},
   "source": [
    "## Vectorize Dataset using BERT\n",
    "\n",
    "The following is a helper function to vectorize all posts (using our BERT transformer) which are entered as an array. The return array contains all the vectors in the same order. BERT is optimized to run on GPUs, if you're using CPUs this might take a while. "
   ]
  },
  {
   "cell_type": "code",
   "execution_count": 47,
   "metadata": {},
   "outputs": [],
   "source": [
    "import time\n",
    "\n",
    "def vectorize_posts(posts=[]):\n",
    "    print(\"Vectorize your posts with BERT. If you are using CPUs this might take a while...\")\n",
    "    post_vectors=[]\n",
    "    before=time.time()\n",
    "    for post in posts:\n",
    "        tokens_pt = tokenizer(post, padding=True, truncation=True, max_length=500, add_special_tokens = True, return_tensors=\"pt\")\n",
    "        outputs = model(**tokens_pt)\n",
    "        post_vectors += outputs.pooler_output\n",
    "    after=time.time()\n",
    "    \n",
    "    print(\"Vectorized {} items in {}s\".format(len(posts), after-before))\n",
    "    \n",
    "    return post_vectors"
   ]
  },
  {
   "cell_type": "markdown",
   "metadata": {},
   "source": [
    "### Run everything we have so far\n",
    "\n",
    "It is now time to run the functions we defined before. Let's load 50 random posts from disk, then vectorize them using BERT."
   ]
  },
  {
   "cell_type": "code",
   "execution_count": 49,
   "metadata": {},
   "outputs": [
    {
     "name": "stdout",
     "output_type": "stream",
     "text": [
      "Vectorize your posts with BERT. If you are using CPUs this might take a while...\n",
      "Vectorized 50 items in 41.9816780090332s\n"
     ]
    }
   ],
   "source": [
    "posts = read_posts(get_post_filenames(50))\n",
    "vectors = vectorize_posts(posts)"
   ]
  },
  {
   "cell_type": "markdown",
   "metadata": {},
   "source": [
    "## Initialize Weaviate\n",
    "\n",
    "Now that we have vectors we can import both the posts and the vectors into Weaviate, so we can then search through them.\n",
    "\n",
    "### Init a simple schema\n",
    "Our schema is very simple, we just have one object class, the \"Post\". A post class has just a single property, which we call \"content\" and is of type \"text\".\n",
    "\n",
    "Each class in schema creates one index, so by running the below we tell weaviate to create one brand new vector index waiting for us to import data."
   ]
  },
  {
   "cell_type": "code",
   "execution_count": 46,
   "metadata": {},
   "outputs": [],
   "source": [
    "def init_weaviate_schema(client):\n",
    "    \n",
    "    # a simple schema containing just a single class for our posts\n",
    "    schema = {\n",
    "        \"classes\": [{\n",
    "                \"class\": \"Post\",\n",
    "                \"vectorizer\": \"none\", # explicitly tell Weaviate not to vectorize anything, we are providing the vectors ourselves through our BERT model\n",
    "                \"properties\": [{\n",
    "                    \"name\": \"content\",\n",
    "                    \"dataType\": [\"text\"],\n",
    "                }]\n",
    "        }]\n",
    "    }\n",
    "    \n",
    "    # cleanup from previous runs\n",
    "    client.schema.delete_all()\n",
    "    \n",
    "    client.schema.create(schema)"
   ]
  },
  {
   "cell_type": "code",
   "execution_count": null,
   "metadata": {},
   "outputs": [],
   "source": [
    "init_weaviate_schema(client)"
   ]
  },
  {
   "cell_type": "code",
   "execution_count": null,
   "metadata": {},
   "outputs": [],
   "source": [
    "def import_posts_with_vectors(posts, vectors):\n",
    "    "
   ]
  }
 ],
 "metadata": {
  "kernelspec": {
   "display_name": "Python 3",
   "language": "python",
   "name": "python3"
  },
  "language_info": {
   "codemirror_mode": {
    "name": "ipython",
    "version": 3
   },
   "file_extension": ".py",
   "mimetype": "text/x-python",
   "name": "python",
   "nbconvert_exporter": "python",
   "pygments_lexer": "ipython3",
   "version": "3.8.5"
  }
 },
 "nbformat": 4,
 "nbformat_minor": 4
}
